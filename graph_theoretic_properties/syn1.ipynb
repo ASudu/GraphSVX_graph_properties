{
 "cells": [
  {
   "cell_type": "markdown",
   "metadata": {},
   "source": [
    "### GraphSVX\n",
    "\n",
    "Here we visualize the explainer results and analyze specific graph theoretic properties for datatset ```syn1```"
   ]
  },
  {
   "cell_type": "code",
   "execution_count": 1,
   "metadata": {},
   "outputs": [],
   "source": [
    "# imports\n",
    "import os\n",
    "import numpy as np\n",
    "import networkx as nx\n",
    "import matplotlib.pyplot as plt"
   ]
  },
  {
   "cell_type": "code",
   "execution_count": 2,
   "metadata": {},
   "outputs": [
    {
     "data": {
      "text/plain": [
       "['node_mask_syn1_explain_node_400.npy',\n",
       " 'node_mask_syn1_explain_node_405.npy',\n",
       " 'node_mask_syn1_explain_node_410.npy',\n",
       " 'node_mask_syn1_explain_node_415.npy',\n",
       " 'node_mask_syn1_explain_node_420.npy',\n",
       " 'node_mask_syn1_explain_node_425.npy',\n",
       " 'node_mask_syn1_explain_node_430.npy',\n",
       " 'node_mask_syn1_explain_node_435.npy',\n",
       " 'node_mask_syn1_explain_node_440.npy',\n",
       " 'node_mask_syn1_explain_node_445.npy',\n",
       " 'node_mask_syn1_explain_node_450.npy',\n",
       " 'node_mask_syn1_explain_node_455.npy',\n",
       " 'node_mask_syn1_explain_node_460.npy',\n",
       " 'node_mask_syn1_explain_node_465.npy',\n",
       " 'node_mask_syn1_explain_node_470.npy',\n",
       " 'node_mask_syn1_explain_node_475.npy',\n",
       " 'node_mask_syn1_explain_node_480.npy',\n",
       " 'node_mask_syn1_explain_node_485.npy',\n",
       " 'node_mask_syn1_explain_node_490.npy',\n",
       " 'node_mask_syn1_explain_node_495.npy',\n",
       " 'node_mask_syn1_explain_node_500.npy',\n",
       " 'node_mask_syn1_explain_node_505.npy',\n",
       " 'node_mask_syn1_explain_node_510.npy',\n",
       " 'node_mask_syn1_explain_node_515.npy',\n",
       " 'node_mask_syn1_explain_node_520.npy',\n",
       " 'node_mask_syn1_explain_node_525.npy',\n",
       " 'node_mask_syn1_explain_node_530.npy',\n",
       " 'node_mask_syn1_explain_node_535.npy',\n",
       " 'node_mask_syn1_explain_node_540.npy',\n",
       " 'node_mask_syn1_explain_node_545.npy',\n",
       " 'node_mask_syn1_explain_node_550.npy',\n",
       " 'node_mask_syn1_explain_node_555.npy',\n",
       " 'node_mask_syn1_explain_node_560.npy',\n",
       " 'node_mask_syn1_explain_node_565.npy',\n",
       " 'node_mask_syn1_explain_node_570.npy',\n",
       " 'node_mask_syn1_explain_node_575.npy',\n",
       " 'node_mask_syn1_explain_node_580.npy',\n",
       " 'node_mask_syn1_explain_node_585.npy',\n",
       " 'node_mask_syn1_explain_node_590.npy',\n",
       " 'node_mask_syn1_explain_node_595.npy',\n",
       " 'node_mask_syn1_explain_node_600.npy',\n",
       " 'node_mask_syn1_explain_node_605.npy',\n",
       " 'node_mask_syn1_explain_node_610.npy',\n",
       " 'node_mask_syn1_explain_node_615.npy',\n",
       " 'node_mask_syn1_explain_node_620.npy',\n",
       " 'node_mask_syn1_explain_node_625.npy',\n",
       " 'node_mask_syn1_explain_node_630.npy',\n",
       " 'node_mask_syn1_explain_node_635.npy',\n",
       " 'node_mask_syn1_explain_node_640.npy',\n",
       " 'node_mask_syn1_explain_node_645.npy',\n",
       " 'node_mask_syn1_explain_node_650.npy',\n",
       " 'node_mask_syn1_explain_node_655.npy',\n",
       " 'node_mask_syn1_explain_node_660.npy',\n",
       " 'node_mask_syn1_explain_node_665.npy',\n",
       " 'node_mask_syn1_explain_node_670.npy',\n",
       " 'node_mask_syn1_explain_node_675.npy',\n",
       " 'node_mask_syn1_explain_node_680.npy',\n",
       " 'node_mask_syn1_explain_node_685.npy',\n",
       " 'node_mask_syn1_explain_node_690.npy',\n",
       " 'node_mask_syn1_explain_node_695.npy',\n",
       " 'node_mask_syn4_explain_node_400.npy',\n",
       " 'node_mask_syn4_explain_node_405.npy',\n",
       " 'node_mask_syn4_explain_node_410.npy',\n",
       " 'node_mask_syn4_explain_node_415.npy',\n",
       " 'node_mask_syn4_explain_node_420.npy',\n",
       " 'node_mask_syn4_explain_node_425.npy',\n",
       " 'node_mask_syn4_explain_node_430.npy',\n",
       " 'node_mask_syn4_explain_node_435.npy',\n",
       " 'node_mask_syn4_explain_node_440.npy',\n",
       " 'node_mask_syn4_explain_node_445.npy',\n",
       " 'node_mask_syn4_explain_node_450.npy',\n",
       " 'node_mask_syn4_explain_node_455.npy',\n",
       " 'node_mask_syn4_explain_node_460.npy',\n",
       " 'node_mask_syn4_explain_node_465.npy',\n",
       " 'node_mask_syn4_explain_node_470.npy',\n",
       " 'node_mask_syn4_explain_node_475.npy',\n",
       " 'node_mask_syn4_explain_node_480.npy',\n",
       " 'node_mask_syn4_explain_node_485.npy',\n",
       " 'node_mask_syn4_explain_node_490.npy',\n",
       " 'node_mask_syn4_explain_node_495.npy',\n",
       " 'node_mask_syn4_explain_node_500.npy',\n",
       " 'node_mask_syn4_explain_node_505.npy',\n",
       " 'node_mask_syn4_explain_node_510.npy',\n",
       " 'node_mask_syn4_explain_node_515.npy',\n",
       " 'node_mask_syn4_explain_node_520.npy',\n",
       " 'node_mask_syn4_explain_node_525.npy',\n",
       " 'node_mask_syn4_explain_node_530.npy',\n",
       " 'node_mask_syn4_explain_node_535.npy',\n",
       " 'node_mask_syn4_explain_node_540.npy',\n",
       " 'node_mask_syn4_explain_node_545.npy',\n",
       " 'node_mask_syn4_explain_node_550.npy',\n",
       " 'node_mask_syn4_explain_node_555.npy',\n",
       " 'node_mask_syn4_explain_node_560.npy',\n",
       " 'node_mask_syn4_explain_node_565.npy',\n",
       " 'node_mask_syn4_explain_node_570.npy',\n",
       " 'node_mask_syn4_explain_node_575.npy',\n",
       " 'node_mask_syn4_explain_node_580.npy',\n",
       " 'node_mask_syn4_explain_node_585.npy',\n",
       " 'node_mask_syn4_explain_node_590.npy',\n",
       " 'node_mask_syn4_explain_node_595.npy',\n",
       " 'node_mask_syn4_explain_node_600.npy',\n",
       " 'node_mask_syn4_explain_node_605.npy',\n",
       " 'node_mask_syn4_explain_node_610.npy',\n",
       " 'node_mask_syn4_explain_node_615.npy',\n",
       " 'node_mask_syn4_explain_node_620.npy',\n",
       " 'node_mask_syn4_explain_node_625.npy',\n",
       " 'node_mask_syn4_explain_node_630.npy',\n",
       " 'node_mask_syn4_explain_node_635.npy',\n",
       " 'node_mask_syn4_explain_node_640.npy',\n",
       " 'node_mask_syn4_explain_node_645.npy',\n",
       " 'node_mask_syn4_explain_node_650.npy',\n",
       " 'node_mask_syn4_explain_node_655.npy',\n",
       " 'node_mask_syn4_explain_node_660.npy',\n",
       " 'node_mask_syn4_explain_node_665.npy',\n",
       " 'node_mask_syn4_explain_node_670.npy',\n",
       " 'node_mask_syn4_explain_node_675.npy',\n",
       " 'node_mask_syn4_explain_node_680.npy',\n",
       " 'node_mask_syn4_explain_node_685.npy',\n",
       " 'node_mask_syn4_explain_node_690.npy',\n",
       " 'node_mask_syn4_explain_node_695.npy']"
      ]
     },
     "execution_count": 2,
     "metadata": {},
     "output_type": "execute_result"
    }
   ],
   "source": [
    "results = '../results/node_masks/'\n",
    "# Load produced masks\n",
    "dirs = os.listdir(results)\n",
    "dirs"
   ]
  },
  {
   "cell_type": "code",
   "execution_count": 3,
   "metadata": {},
   "outputs": [
    {
     "data": {
      "text/plain": [
       "60"
      ]
     },
     "execution_count": 3,
     "metadata": {},
     "output_type": "execute_result"
    }
   ],
   "source": [
    "# Get the masks\n",
    "masks = []\n",
    "# This would print all the files and directories\n",
    "for file in dirs:\n",
    "    # Check if file extension is \".npy\" which are\n",
    "    # numpy binary files to represent large data\n",
    "    if file.split('.')[-1] == 'npy' and file.split('_')[2] == 'syn1':\n",
    "        # print(file)\n",
    "        masks.append(file)\n",
    "len(masks)"
   ]
  },
  {
   "cell_type": "code",
   "execution_count": 4,
   "metadata": {},
   "outputs": [],
   "source": [
    "def show_adjacency_full(mask):\n",
    "    \"\"\"Obtain the numpy array of the mask\n",
    "\n",
    "    Args:\n",
    "        mask (str): Filename containing the mask\n",
    "        ax (Axes class object, optional): Axis. Defaults to None.\n",
    "\n",
    "    Returns:\n",
    "        numpy array: Numpy array version of the mask\n",
    "    \"\"\"\n",
    "    # Obtain mask as array from the filename sent in var \"mask\"\n",
    "    adj = np.load(os.path.join(results, mask), allow_pickle=True)\n",
    "\n",
    "    return adj"
   ]
  },
  {
   "cell_type": "markdown",
   "metadata": {},
   "source": [
    "### Analyzing Graph Properties\n",
    "\n",
    "Here we measure the following quantities:\n",
    "\n",
    "- Nodes: |V|\n",
    "- Edges: |E|\n",
    "- Avg degree\n",
    "- Diameter of the graph\n",
    "- Sparsity measure: edge density = |E|/C(|V|,2)\n",
    "- Node Betweenness centrality"
   ]
  },
  {
   "cell_type": "code",
   "execution_count": 5,
   "metadata": {},
   "outputs": [
    {
     "data": {
      "text/plain": [
       "['adj_matrix_syn1.npy', 'adj_matrix_syn2.npy', 'adj_matrix_syn4.npy']"
      ]
     },
     "execution_count": 5,
     "metadata": {},
     "output_type": "execute_result"
    }
   ],
   "source": [
    "# Get data adjacency matrix\n",
    "datadir = '../results/data_adj/'\n",
    "matrices = os.listdir(datadir)\n",
    "matrices"
   ]
  },
  {
   "cell_type": "code",
   "execution_count": 6,
   "metadata": {},
   "outputs": [
    {
     "data": {
      "text/plain": [
       "['adj_matrix_syn1.npy']"
      ]
     },
     "execution_count": 6,
     "metadata": {},
     "output_type": "execute_result"
    }
   ],
   "source": [
    "data = []\n",
    "dataset = 'syn1.npy'\n",
    "# This would print all the files and directories\n",
    "for file in matrices:\n",
    "    # Check if file extension is \".npy\" which are\n",
    "    # numpy binary files to represent large data\n",
    "    if file.split('.')[-1] == 'npy' and file.split('_')[2] == dataset:\n",
    "        data.append(file)\n",
    "data"
   ]
  },
  {
   "cell_type": "code",
   "execution_count": 7,
   "metadata": {},
   "outputs": [
    {
     "data": {
      "text/plain": [
       "(700, 700)"
      ]
     },
     "execution_count": 7,
     "metadata": {},
     "output_type": "execute_result"
    }
   ],
   "source": [
    "adj_matrix = np.load(os.path.join(datadir, data[0]), allow_pickle=True)\n",
    "adj_matrix.shape"
   ]
  },
  {
   "cell_type": "code",
   "execution_count": 15,
   "metadata": {},
   "outputs": [],
   "source": [
    "def normalize(A):\n",
    "    scale_factor = A.max() - A.min()\n",
    "    B = np.ones_like(A)*A.min()\n",
    "\n",
    "    A = (A - B)/scale_factor\n",
    "    return A\n",
    "\n",
    "def centrality(G,mask,node_to_explain):\n",
    "    \n",
    "    sources = [node_to_explain]\n",
    "    targets = [v for v in list(G.nodes()) if v!=node_to_explain]\n",
    "    bc = nx.betweenness_centrality_subset(G,sources,targets)\n",
    "\n",
    "    # By explainer\n",
    "    A = mask.copy()\n",
    "    print(len(G))\n",
    "    print(len(A))\n",
    "\n",
    "def graph_prop(graph,mask,node_to_explain):\n",
    "\n",
    "    v = graph.number_of_nodes()\n",
    "    e = graph.number_of_edges()\n",
    "    avg_degree = float('%.3f'%(2*e/v))\n",
    "    diameter = nx.diameter(graph)\n",
    "    sparsity = float('%.3f'%(2*e/(v*(v-1))))\n",
    "    centrality(graph,mask,node_to_explain)\n",
    "\n",
    "    return [v,e,avg_degree,diameter,sparsity]"
   ]
  },
  {
   "cell_type": "code",
   "execution_count": 16,
   "metadata": {},
   "outputs": [],
   "source": [
    "def get_node_to_explain(filename):\n",
    "\n",
    "    required_slice = filename.split('_')[-1]\n",
    "    node = int(required_slice.split('.')[0])\n",
    "\n",
    "    return node"
   ]
  },
  {
   "cell_type": "code",
   "execution_count": 17,
   "metadata": {},
   "outputs": [
    {
     "name": "stdout",
     "output_type": "stream",
     "text": [
      "700\n",
      "700\n"
     ]
    },
    {
     "data": {
      "text/plain": [
       "[700, 2055, 5.871, 10, 0.008]"
      ]
     },
     "execution_count": 17,
     "metadata": {},
     "output_type": "execute_result"
    }
   ],
   "source": [
    "graph_properties = []\n",
    "\n",
    "# for m in masks:\n",
    "#     mask = show_adjacency_full(m)\n",
    "#     G = nx.from_numpy_array(adj_matrix)\n",
    "#     node_to_explain = get_node_to_explain(m)\n",
    "\n",
    "#     prop = graph_prop(G,mask,node_to_explain)\n",
    "\n",
    "mask = show_adjacency_full(masks[0])\n",
    "G = nx.from_numpy_array(adj_matrix)\n",
    "node_to_explain = get_node_to_explain(masks[0])\n",
    "\n",
    "prop = graph_prop(G,mask,node_to_explain)\n",
    "prop"
   ]
  }
 ],
 "metadata": {
  "kernelspec": {
   "display_name": ".venv",
   "language": "python",
   "name": "python3"
  },
  "language_info": {
   "codemirror_mode": {
    "name": "ipython",
    "version": 3
   },
   "file_extension": ".py",
   "mimetype": "text/x-python",
   "name": "python",
   "nbconvert_exporter": "python",
   "pygments_lexer": "ipython3",
   "version": "3.7.9"
  }
 },
 "nbformat": 4,
 "nbformat_minor": 2
}
