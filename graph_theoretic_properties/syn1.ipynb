{
 "cells": [
  {
   "cell_type": "markdown",
   "metadata": {},
   "source": [
    "### GraphSVX\n",
    "\n",
    "Here we visualize the explainer results and analyze specific graph theoretic properties for datatset ```syn1```"
   ]
  },
  {
   "cell_type": "code",
   "execution_count": 1,
   "metadata": {},
   "outputs": [],
   "source": [
    "# imports\n",
    "import os\n",
    "import numpy as np\n",
    "import networkx as nx\n",
    "import matplotlib.pyplot as plt"
   ]
  },
  {
   "cell_type": "code",
   "execution_count": 2,
   "metadata": {},
   "outputs": [
    {
     "data": {
      "text/plain": [
       "['node_mask_syn1_explain_node_400.npy',\n",
       " 'node_mask_syn1_explain_node_405.npy',\n",
       " 'node_mask_syn1_explain_node_410.npy',\n",
       " 'node_mask_syn1_explain_node_415.npy',\n",
       " 'node_mask_syn1_explain_node_420.npy',\n",
       " 'node_mask_syn1_explain_node_425.npy',\n",
       " 'node_mask_syn1_explain_node_430.npy',\n",
       " 'node_mask_syn1_explain_node_435.npy',\n",
       " 'node_mask_syn1_explain_node_440.npy',\n",
       " 'node_mask_syn1_explain_node_445.npy',\n",
       " 'node_mask_syn1_explain_node_450.npy',\n",
       " 'node_mask_syn1_explain_node_455.npy',\n",
       " 'node_mask_syn1_explain_node_460.npy',\n",
       " 'node_mask_syn1_explain_node_465.npy',\n",
       " 'node_mask_syn1_explain_node_470.npy',\n",
       " 'node_mask_syn1_explain_node_475.npy',\n",
       " 'node_mask_syn1_explain_node_480.npy',\n",
       " 'node_mask_syn1_explain_node_485.npy',\n",
       " 'node_mask_syn1_explain_node_490.npy',\n",
       " 'node_mask_syn1_explain_node_495.npy',\n",
       " 'node_mask_syn1_explain_node_500.npy',\n",
       " 'node_mask_syn1_explain_node_505.npy',\n",
       " 'node_mask_syn1_explain_node_510.npy',\n",
       " 'node_mask_syn1_explain_node_515.npy',\n",
       " 'node_mask_syn1_explain_node_520.npy',\n",
       " 'node_mask_syn1_explain_node_525.npy',\n",
       " 'node_mask_syn1_explain_node_530.npy',\n",
       " 'node_mask_syn1_explain_node_535.npy',\n",
       " 'node_mask_syn1_explain_node_540.npy',\n",
       " 'node_mask_syn1_explain_node_545.npy',\n",
       " 'node_mask_syn1_explain_node_550.npy',\n",
       " 'node_mask_syn1_explain_node_555.npy',\n",
       " 'node_mask_syn1_explain_node_560.npy',\n",
       " 'node_mask_syn1_explain_node_565.npy',\n",
       " 'node_mask_syn1_explain_node_570.npy',\n",
       " 'node_mask_syn1_explain_node_575.npy',\n",
       " 'node_mask_syn1_explain_node_580.npy',\n",
       " 'node_mask_syn1_explain_node_585.npy',\n",
       " 'node_mask_syn1_explain_node_590.npy',\n",
       " 'node_mask_syn1_explain_node_595.npy',\n",
       " 'node_mask_syn1_explain_node_600.npy',\n",
       " 'node_mask_syn1_explain_node_605.npy',\n",
       " 'node_mask_syn1_explain_node_610.npy',\n",
       " 'node_mask_syn1_explain_node_615.npy',\n",
       " 'node_mask_syn1_explain_node_620.npy',\n",
       " 'node_mask_syn1_explain_node_625.npy',\n",
       " 'node_mask_syn1_explain_node_630.npy',\n",
       " 'node_mask_syn1_explain_node_635.npy',\n",
       " 'node_mask_syn1_explain_node_640.npy',\n",
       " 'node_mask_syn1_explain_node_645.npy',\n",
       " 'node_mask_syn1_explain_node_650.npy',\n",
       " 'node_mask_syn1_explain_node_655.npy',\n",
       " 'node_mask_syn1_explain_node_660.npy',\n",
       " 'node_mask_syn1_explain_node_665.npy',\n",
       " 'node_mask_syn1_explain_node_670.npy',\n",
       " 'node_mask_syn1_explain_node_675.npy',\n",
       " 'node_mask_syn1_explain_node_680.npy',\n",
       " 'node_mask_syn1_explain_node_685.npy',\n",
       " 'node_mask_syn1_explain_node_690.npy',\n",
       " 'node_mask_syn1_explain_node_695.npy']"
      ]
     },
     "execution_count": 2,
     "metadata": {},
     "output_type": "execute_result"
    }
   ],
   "source": [
    "results = '../results/node_masks/'\n",
    "# Load produced masks\n",
    "dirs = os.listdir(results)\n",
    "dirs"
   ]
  },
  {
   "cell_type": "code",
   "execution_count": 3,
   "metadata": {},
   "outputs": [
    {
     "data": {
      "text/plain": [
       "60"
      ]
     },
     "execution_count": 3,
     "metadata": {},
     "output_type": "execute_result"
    }
   ],
   "source": [
    "# Get the masks\n",
    "node_masks = []\n",
    "# This would print all the files and directories\n",
    "for file in dirs:\n",
    "    # Check if file extension is \".npy\" which are\n",
    "    # numpy binary files to represent large data\n",
    "    if file.split('.')[-1] == 'npy' and file.split('_')[2] == 'syn1':\n",
    "        # print(file)\n",
    "        node_masks.append(file)\n",
    "len(node_masks)"
   ]
  },
  {
   "cell_type": "code",
   "execution_count": 4,
   "metadata": {},
   "outputs": [
    {
     "data": {
      "text/plain": [
       "['masked_adj_syn1_explain_node_400.npy',\n",
       " 'masked_adj_syn1_explain_node_405.npy',\n",
       " 'masked_adj_syn1_explain_node_410.npy',\n",
       " 'masked_adj_syn1_explain_node_415.npy',\n",
       " 'masked_adj_syn1_explain_node_420.npy',\n",
       " 'masked_adj_syn1_explain_node_425.npy',\n",
       " 'masked_adj_syn1_explain_node_430.npy',\n",
       " 'masked_adj_syn1_explain_node_435.npy',\n",
       " 'masked_adj_syn1_explain_node_440.npy',\n",
       " 'masked_adj_syn1_explain_node_445.npy',\n",
       " 'masked_adj_syn1_explain_node_450.npy',\n",
       " 'masked_adj_syn1_explain_node_455.npy',\n",
       " 'masked_adj_syn1_explain_node_460.npy',\n",
       " 'masked_adj_syn1_explain_node_465.npy',\n",
       " 'masked_adj_syn1_explain_node_470.npy',\n",
       " 'masked_adj_syn1_explain_node_475.npy',\n",
       " 'masked_adj_syn1_explain_node_480.npy',\n",
       " 'masked_adj_syn1_explain_node_485.npy',\n",
       " 'masked_adj_syn1_explain_node_490.npy',\n",
       " 'masked_adj_syn1_explain_node_495.npy',\n",
       " 'masked_adj_syn1_explain_node_500.npy',\n",
       " 'masked_adj_syn1_explain_node_505.npy',\n",
       " 'masked_adj_syn1_explain_node_510.npy',\n",
       " 'masked_adj_syn1_explain_node_515.npy',\n",
       " 'masked_adj_syn1_explain_node_520.npy',\n",
       " 'masked_adj_syn1_explain_node_525.npy',\n",
       " 'masked_adj_syn1_explain_node_530.npy',\n",
       " 'masked_adj_syn1_explain_node_535.npy',\n",
       " 'masked_adj_syn1_explain_node_540.npy',\n",
       " 'masked_adj_syn1_explain_node_545.npy',\n",
       " 'masked_adj_syn1_explain_node_550.npy',\n",
       " 'masked_adj_syn1_explain_node_555.npy',\n",
       " 'masked_adj_syn1_explain_node_560.npy',\n",
       " 'masked_adj_syn1_explain_node_565.npy',\n",
       " 'masked_adj_syn1_explain_node_570.npy',\n",
       " 'masked_adj_syn1_explain_node_575.npy',\n",
       " 'masked_adj_syn1_explain_node_580.npy',\n",
       " 'masked_adj_syn1_explain_node_585.npy',\n",
       " 'masked_adj_syn1_explain_node_590.npy',\n",
       " 'masked_adj_syn1_explain_node_595.npy',\n",
       " 'masked_adj_syn1_explain_node_600.npy',\n",
       " 'masked_adj_syn1_explain_node_605.npy',\n",
       " 'masked_adj_syn1_explain_node_610.npy',\n",
       " 'masked_adj_syn1_explain_node_615.npy',\n",
       " 'masked_adj_syn1_explain_node_620.npy',\n",
       " 'masked_adj_syn1_explain_node_625.npy',\n",
       " 'masked_adj_syn1_explain_node_630.npy',\n",
       " 'masked_adj_syn1_explain_node_635.npy',\n",
       " 'masked_adj_syn1_explain_node_640.npy',\n",
       " 'masked_adj_syn1_explain_node_645.npy',\n",
       " 'masked_adj_syn1_explain_node_650.npy',\n",
       " 'masked_adj_syn1_explain_node_655.npy',\n",
       " 'masked_adj_syn1_explain_node_660.npy',\n",
       " 'masked_adj_syn1_explain_node_665.npy',\n",
       " 'masked_adj_syn1_explain_node_670.npy',\n",
       " 'masked_adj_syn1_explain_node_675.npy',\n",
       " 'masked_adj_syn1_explain_node_680.npy',\n",
       " 'masked_adj_syn1_explain_node_685.npy',\n",
       " 'masked_adj_syn1_explain_node_690.npy',\n",
       " 'masked_adj_syn1_explain_node_695.npy']"
      ]
     },
     "execution_count": 4,
     "metadata": {},
     "output_type": "execute_result"
    }
   ],
   "source": [
    "masked_subgraph = '../results/exp_mask_adj/'\n",
    "\n",
    "# Load produced masks\n",
    "dirs = os.listdir(masked_subgraph)\n",
    "dirs"
   ]
  },
  {
   "cell_type": "code",
   "execution_count": 5,
   "metadata": {},
   "outputs": [
    {
     "data": {
      "text/plain": [
       "60"
      ]
     },
     "execution_count": 5,
     "metadata": {},
     "output_type": "execute_result"
    }
   ],
   "source": [
    "# Get the masks\n",
    "mask_adj = []\n",
    "# This would print all the files and directories\n",
    "for file in dirs:\n",
    "    # Check if file extension is \".npy\" which are\n",
    "    # numpy binary files to represent large data\n",
    "    if file.split('.')[-1] == 'npy' and file.split('_')[2] == 'syn1':\n",
    "        # print(file)\n",
    "        mask_adj.append(file)\n",
    "len(mask_adj)"
   ]
  },
  {
   "cell_type": "code",
   "execution_count": 6,
   "metadata": {},
   "outputs": [],
   "source": [
    "def show_adjacency_full(path,mask):\n",
    "    \"\"\"Obtain the numpy array of the mask\n",
    "\n",
    "    Args:\n",
    "        mask (str): Filename containing the mask\n",
    "        ax (Axes class object, optional): Axis. Defaults to None.\n",
    "\n",
    "    Returns:\n",
    "        numpy array: Numpy array version of the mask\n",
    "    \"\"\"\n",
    "    # Obtain mask as array from the filename sent in var \"mask\"\n",
    "    adj = np.load(os.path.join(path, mask), allow_pickle=True)\n",
    "\n",
    "    return adj"
   ]
  },
  {
   "cell_type": "markdown",
   "metadata": {},
   "source": [
    "### Analyzing Graph Properties\n",
    "\n",
    "Here we measure the following quantities:\n",
    "\n",
    "- Nodes: |V|\n",
    "- Edges: |E|\n",
    "- Avg degree\n",
    "- Diameter of the graph\n",
    "- Sparsity measure: edge density = |E|/C(|V|,2)\n",
    "- Node Betweenness centrality"
   ]
  },
  {
   "cell_type": "code",
   "execution_count": 7,
   "metadata": {},
   "outputs": [
    {
     "data": {
      "text/plain": [
       "['adj_matrix_syn1.npy']"
      ]
     },
     "execution_count": 7,
     "metadata": {},
     "output_type": "execute_result"
    }
   ],
   "source": [
    "# Get data adjacency matrix\n",
    "datadir = '../results/dataset_matrix/'\n",
    "matrices = os.listdir(datadir)\n",
    "matrices"
   ]
  },
  {
   "cell_type": "code",
   "execution_count": 8,
   "metadata": {},
   "outputs": [
    {
     "data": {
      "text/plain": [
       "['adj_matrix_syn1.npy']"
      ]
     },
     "execution_count": 8,
     "metadata": {},
     "output_type": "execute_result"
    }
   ],
   "source": [
    "data = []\n",
    "dataset = 'syn1.npy'\n",
    "# This would print all the files and directories\n",
    "for file in matrices:\n",
    "    # Check if file extension is \".npy\" which are\n",
    "    # numpy binary files to represent large data\n",
    "    if file.split('.')[-1] == 'npy' and file.split('_')[2] == dataset:\n",
    "        data.append(file)\n",
    "data"
   ]
  },
  {
   "cell_type": "code",
   "execution_count": 9,
   "metadata": {},
   "outputs": [
    {
     "data": {
      "text/plain": [
       "(700, 700)"
      ]
     },
     "execution_count": 9,
     "metadata": {},
     "output_type": "execute_result"
    }
   ],
   "source": [
    "adj_matrix = np.load(os.path.join(datadir, data[0]), allow_pickle=True)\n",
    "adj_matrix.shape"
   ]
  },
  {
   "cell_type": "code",
   "execution_count": 25,
   "metadata": {},
   "outputs": [],
   "source": [
    "def normalize(A):\n",
    "    scale_factor = A.max() - A.min()\n",
    "    B = np.ones_like(A)*A.min()\n",
    "\n",
    "    A = (A - B)/scale_factor\n",
    "    return A\n",
    "\n",
    "def centrality(G,mask,node_to_explain):\n",
    "    \n",
    "    print(f\"Node #{node_to_explain}: {list(G.nodes())}\")\n",
    "    sources = [node_to_explain]\n",
    "    targets = [v for v in list(G.nodes()) if v!=node_to_explain]\n",
    "    bc = nx.betweenness_centrality_subset(G,sources,targets)\n",
    "\n",
    "    # By explainer\n",
    "    A = mask.copy()\n",
    "    \n",
    "    # Importance from bc\n",
    "    B = np.zeros_like(A)\n",
    "    for v in list(bc.keys()):\n",
    "        B[v] = bc.get(v)\n",
    "    \n",
    "    A1 = normalize(A)\n",
    "    B1 = normalize(B)\n",
    "\n",
    "    if(np.equal(A1,B1) == False):\n",
    "        return 1/(np.linalg.norm(A1 - B1, 2)**2)\n",
    "    else:\n",
    "        return 1\n",
    "\n",
    "def graph_prop(graph,mask,node_to_explain):\n",
    "\n",
    "    v = graph.number_of_nodes()\n",
    "    e = graph.number_of_edges()\n",
    "    avg_degree = float('%.3f'%(2*e/v))\n",
    "    diameter = nx.diameter(graph)\n",
    "    sparsity = float('%.3f'%(2*e/(v*(v-1))))\n",
    "    coh = centrality(graph,mask,node_to_explain)\n",
    "\n",
    "    return [v,e,avg_degree,diameter,sparsity,coh]"
   ]
  },
  {
   "cell_type": "code",
   "execution_count": 11,
   "metadata": {},
   "outputs": [],
   "source": [
    "def get_node_to_explain(filename):\n",
    "\n",
    "    required_slice = filename.split('_')[-1]\n",
    "    node = int(required_slice.split('.')[0])\n",
    "\n",
    "    return node"
   ]
  },
  {
   "cell_type": "code",
   "execution_count": 29,
   "metadata": {},
   "outputs": [
    {
     "name": "stdout",
     "output_type": "stream",
     "text": [
      "Analyzing graph properties for explanation of node #400\n",
      "Number of connected components of G: 2\n",
      "Analyzing graph properties for explanation of node #405\n",
      "Number of connected components of G: 1\n",
      "Analyzing graph properties for explanation of node #410\n",
      "Number of connected components of G: 2\n",
      "Analyzing graph properties for explanation of node #415\n",
      "Number of connected components of G: 2\n",
      "Analyzing graph properties for explanation of node #420\n",
      "Number of connected components of G: 2\n",
      "Analyzing graph properties for explanation of node #425\n",
      "Number of connected components of G: 2\n",
      "Analyzing graph properties for explanation of node #430\n",
      "Number of connected components of G: 2\n",
      "Analyzing graph properties for explanation of node #435\n",
      "Number of connected components of G: 2\n",
      "Analyzing graph properties for explanation of node #440\n",
      "Number of connected components of G: 2\n",
      "Analyzing graph properties for explanation of node #445\n",
      "Number of connected components of G: 2\n",
      "Analyzing graph properties for explanation of node #450\n",
      "Number of connected components of G: 1\n",
      "Analyzing graph properties for explanation of node #455\n",
      "Number of connected components of G: 2\n",
      "Analyzing graph properties for explanation of node #460\n",
      "Number of connected components of G: 2\n",
      "Analyzing graph properties for explanation of node #465\n",
      "Number of connected components of G: 2\n",
      "Analyzing graph properties for explanation of node #470\n",
      "Number of connected components of G: 2\n",
      "Analyzing graph properties for explanation of node #475\n",
      "Number of connected components of G: 2\n",
      "Analyzing graph properties for explanation of node #480\n",
      "Number of connected components of G: 2\n",
      "Analyzing graph properties for explanation of node #485\n",
      "Number of connected components of G: 2\n",
      "Analyzing graph properties for explanation of node #490\n",
      "Number of connected components of G: 2\n",
      "Analyzing graph properties for explanation of node #495\n",
      "Number of connected components of G: 1\n",
      "Analyzing graph properties for explanation of node #500\n",
      "Number of connected components of G: 1\n",
      "Analyzing graph properties for explanation of node #505\n",
      "Number of connected components of G: 2\n",
      "Analyzing graph properties for explanation of node #510\n",
      "Number of connected components of G: 2\n",
      "Analyzing graph properties for explanation of node #515\n",
      "Number of connected components of G: 2\n",
      "Analyzing graph properties for explanation of node #520\n",
      "Number of connected components of G: 2\n",
      "Analyzing graph properties for explanation of node #525\n",
      "Number of connected components of G: 1\n",
      "Analyzing graph properties for explanation of node #530\n",
      "Number of connected components of G: 2\n",
      "Analyzing graph properties for explanation of node #535\n",
      "Number of connected components of G: 2\n",
      "Analyzing graph properties for explanation of node #540\n",
      "Number of connected components of G: 1\n",
      "Analyzing graph properties for explanation of node #545\n",
      "Number of connected components of G: 2\n",
      "Analyzing graph properties for explanation of node #550\n",
      "Number of connected components of G: 2\n",
      "Analyzing graph properties for explanation of node #555\n",
      "Number of connected components of G: 2\n",
      "Analyzing graph properties for explanation of node #560\n",
      "Number of connected components of G: 2\n",
      "Analyzing graph properties for explanation of node #565\n",
      "Number of connected components of G: 2\n",
      "Analyzing graph properties for explanation of node #570\n",
      "Number of connected components of G: 1\n",
      "Analyzing graph properties for explanation of node #575\n",
      "Number of connected components of G: 2\n",
      "Analyzing graph properties for explanation of node #580\n",
      "Number of connected components of G: 2\n",
      "Analyzing graph properties for explanation of node #585\n",
      "Number of connected components of G: 2\n",
      "Analyzing graph properties for explanation of node #590\n",
      "Number of connected components of G: 2\n",
      "Analyzing graph properties for explanation of node #595\n",
      "Number of connected components of G: 2\n",
      "Analyzing graph properties for explanation of node #600\n",
      "Number of connected components of G: 2\n",
      "Analyzing graph properties for explanation of node #605\n",
      "Number of connected components of G: 2\n",
      "Analyzing graph properties for explanation of node #610\n",
      "Number of connected components of G: 2\n",
      "Analyzing graph properties for explanation of node #615\n",
      "Number of connected components of G: 2\n",
      "Analyzing graph properties for explanation of node #620\n",
      "Number of connected components of G: 2\n",
      "Analyzing graph properties for explanation of node #625\n",
      "Number of connected components of G: 2\n",
      "Analyzing graph properties for explanation of node #630\n",
      "Number of connected components of G: 2\n",
      "Analyzing graph properties for explanation of node #635\n",
      "Number of connected components of G: 2\n",
      "Analyzing graph properties for explanation of node #640\n",
      "Number of connected components of G: 2\n",
      "Analyzing graph properties for explanation of node #645\n",
      "Number of connected components of G: 2\n",
      "Analyzing graph properties for explanation of node #650\n",
      "Number of connected components of G: 1\n",
      "Analyzing graph properties for explanation of node #655\n",
      "Number of connected components of G: 2\n",
      "Analyzing graph properties for explanation of node #660\n",
      "Number of connected components of G: 2\n",
      "Analyzing graph properties for explanation of node #665\n",
      "Number of connected components of G: 2\n",
      "Analyzing graph properties for explanation of node #670\n",
      "Number of connected components of G: 3\n",
      "Analyzing graph properties for explanation of node #675\n",
      "Number of connected components of G: 2\n",
      "Analyzing graph properties for explanation of node #680\n",
      "Number of connected components of G: 2\n",
      "Analyzing graph properties for explanation of node #685\n",
      "Number of connected components of G: 1\n",
      "Analyzing graph properties for explanation of node #690\n",
      "Number of connected components of G: 1\n",
      "Analyzing graph properties for explanation of node #695\n",
      "Number of connected components of G: 2\n",
      "All explanations successfully analyzed!\n"
     ]
    }
   ],
   "source": [
    "graph_properties = []\n",
    "dataset_G = nx.from_numpy_array(adj_matrix)\n",
    "\n",
    "# len(mask_adj)\n",
    "for i in range(len(mask_adj)):\n",
    "    # adj = show_adjacency_full(masked_subgraph,mask_adj[i])  # Get the adjacency matrix of the explanation\n",
    "    # G = nx.from_numpy_array(adj)    # Get the explanation subgraph\n",
    "    node_mask = show_adjacency_full(results, node_masks[i])  # Get the node mask for the considered explanation\n",
    "    idxs = np.where(node_mask != 0)[0]\n",
    "    G = nx.induced_subgraph(dataset_G, idxs)\n",
    "\n",
    "    node_to_explain = get_node_to_explain(mask_adj[i])  # Get the label of the node being explained\n",
    "\n",
    "    print(f\"Analyzing graph properties for explanation of node #{node_to_explain}\")\n",
    "    # graph_properties.append(graph_prop(G,node_mask,node_to_explain))\n",
    "    print(f\"Number of connected components of G: {nx.number_connected_components(G)}\")\n",
    "\n",
    "print(\"All explanations successfully analyzed!\")"
   ]
  }
 ],
 "metadata": {
  "kernelspec": {
   "display_name": ".venv",
   "language": "python",
   "name": "python3"
  },
  "language_info": {
   "codemirror_mode": {
    "name": "ipython",
    "version": 3
   },
   "file_extension": ".py",
   "mimetype": "text/x-python",
   "name": "python",
   "nbconvert_exporter": "python",
   "pygments_lexer": "ipython3",
   "version": "3.7.9"
  }
 },
 "nbformat": 4,
 "nbformat_minor": 2
}
