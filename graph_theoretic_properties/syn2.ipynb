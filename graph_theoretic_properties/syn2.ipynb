{
 "cells": [
  {
   "cell_type": "markdown",
   "metadata": {},
   "source": [
    "### GraphSVX\n",
    "\n",
    "Here we visualize the explainer results and analyze specific graph theoretic properties for datatset ```syn2```"
   ]
  },
  {
   "cell_type": "code",
   "execution_count": 1,
   "metadata": {},
   "outputs": [],
   "source": [
    "# imports\n",
    "import os\n",
    "import numpy as np\n",
    "import networkx as nx\n",
    "import matplotlib.pyplot as plt\n",
    "import math"
   ]
  },
  {
   "cell_type": "code",
   "execution_count": 2,
   "metadata": {},
   "outputs": [
    {
     "data": {
      "text/plain": [
       "180"
      ]
     },
     "execution_count": 2,
     "metadata": {},
     "output_type": "execute_result"
    }
   ],
   "source": [
    "results = '../results/node_masks/'\n",
    "# Load produced masks\n",
    "dirs = os.listdir(results)\n",
    "len(dirs)"
   ]
  },
  {
   "cell_type": "code",
   "execution_count": 3,
   "metadata": {},
   "outputs": [
    {
     "data": {
      "text/plain": [
       "60"
      ]
     },
     "execution_count": 3,
     "metadata": {},
     "output_type": "execute_result"
    }
   ],
   "source": [
    "# Get the masks\n",
    "node_masks = []\n",
    "# This would print all the files and directories\n",
    "for file in dirs:\n",
    "    # Check if file extension is \".npy\" which are\n",
    "    # numpy binary files to represent large data\n",
    "    if file.split('.')[-1] == 'npy' and file.split('_')[2] == 'syn2':\n",
    "        # print(file)\n",
    "        node_masks.append(file)\n",
    "len(node_masks)"
   ]
  },
  {
   "cell_type": "code",
   "execution_count": 4,
   "metadata": {},
   "outputs": [
    {
     "data": {
      "text/plain": [
       "'masked_adj_syn2_explain_node_400.npy'"
      ]
     },
     "execution_count": 4,
     "metadata": {},
     "output_type": "execute_result"
    }
   ],
   "source": [
    "masked_subgraph = '../results/exp_mask_adj/'\n",
    "\n",
    "# Load produced masks\n",
    "dirs = os.listdir(masked_subgraph)\n",
    "dirs[60]"
   ]
  },
  {
   "cell_type": "code",
   "execution_count": 5,
   "metadata": {},
   "outputs": [
    {
     "data": {
      "text/plain": [
       "60"
      ]
     },
     "execution_count": 5,
     "metadata": {},
     "output_type": "execute_result"
    }
   ],
   "source": [
    "# Get the masks\n",
    "mask_adj = []\n",
    "# This would print all the files and directories\n",
    "for file in dirs:\n",
    "    # Check if file extension is \".npy\" which are\n",
    "    # numpy binary files to represent large data\n",
    "    if file.split('.')[-1] == 'npy' and file.split('_')[2] == 'syn2':\n",
    "        # print(file)\n",
    "        mask_adj.append(file)\n",
    "len(mask_adj)"
   ]
  },
  {
   "cell_type": "code",
   "execution_count": 6,
   "metadata": {},
   "outputs": [],
   "source": [
    "def show_adjacency_full(path,mask):\n",
    "    \"\"\"Obtain the numpy array of the mask\n",
    "\n",
    "    Args:\n",
    "        mask (str): Filename containing the mask\n",
    "        ax (Axes class object, optional): Axis. Defaults to None.\n",
    "\n",
    "    Returns:\n",
    "        numpy array: Numpy array version of the mask\n",
    "    \"\"\"\n",
    "    # Obtain mask as array from the filename sent in var \"mask\"\n",
    "    adj = np.load(os.path.join(path, mask), allow_pickle=True)\n",
    "\n",
    "    return adj"
   ]
  },
  {
   "cell_type": "markdown",
   "metadata": {},
   "source": [
    "### Analyzing Graph Properties\n",
    "\n",
    "Here we measure the following quantities:\n",
    "\n",
    "- Nodes: |V|\n",
    "- Edges: |E|\n",
    "- Avg degree\n",
    "- Diameter of the graph\n",
    "- Sparsity measure: edge density = |E|/C(|V|,2)\n",
    "- Node Betweenness centrality"
   ]
  },
  {
   "cell_type": "code",
   "execution_count": 7,
   "metadata": {},
   "outputs": [
    {
     "data": {
      "text/plain": [
       "['adj_matrix_syn1.npy', 'adj_matrix_syn2.npy', 'adj_matrix_syn5.npy']"
      ]
     },
     "execution_count": 7,
     "metadata": {},
     "output_type": "execute_result"
    }
   ],
   "source": [
    "# Get data adjacency matrix\n",
    "datadir = '../results/dataset_matrix/'\n",
    "matrices = os.listdir(datadir)\n",
    "matrices"
   ]
  },
  {
   "cell_type": "code",
   "execution_count": 8,
   "metadata": {},
   "outputs": [
    {
     "data": {
      "text/plain": [
       "['adj_matrix_syn2.npy']"
      ]
     },
     "execution_count": 8,
     "metadata": {},
     "output_type": "execute_result"
    }
   ],
   "source": [
    "data = []\n",
    "dataset = 'syn2.npy'\n",
    "# This would print all the files and directories\n",
    "for file in matrices:\n",
    "    # Check if file extension is \".npy\" which are\n",
    "    # numpy binary files to represent large data\n",
    "    if file.split('.')[-1] == 'npy' and file.split('_')[2] == dataset:\n",
    "        data.append(file)\n",
    "data"
   ]
  },
  {
   "cell_type": "code",
   "execution_count": 9,
   "metadata": {},
   "outputs": [
    {
     "data": {
      "text/plain": [
       "(1400, 1400)"
      ]
     },
     "execution_count": 9,
     "metadata": {},
     "output_type": "execute_result"
    }
   ],
   "source": [
    "adj_matrix = np.load(os.path.join(datadir, data[0]), allow_pickle=True)\n",
    "adj_matrix.shape"
   ]
  },
  {
   "cell_type": "code",
   "execution_count": 10,
   "metadata": {},
   "outputs": [],
   "source": [
    "def normalize(A):\n",
    "    \"\"\"Min-max scaling for the matrix\n",
    "\n",
    "    Args:\n",
    "        A (np.ndarray): Matrix to normalize\n",
    "\n",
    "    Returns:\n",
    "        np.ndarray: Normalized matrix\n",
    "    \"\"\"\n",
    "    scale_factor = A.max() - A.min()\n",
    "    B = np.ones_like(A)*A.min()\n",
    "\n",
    "    A = (A - B)/scale_factor\n",
    "    return A\n",
    "\n",
    "def centrality(dataset_G,nodes,mask,node_to_explain):\n",
    "    \"\"\"Calculate the coherence by comparing node (edge) importance score, assigned\n",
    "     by explanation method, with node (edge) betweeness centrality scores\n",
    "\n",
    "    Args:\n",
    "        adj (np.ndarray): Importance scores matrix for the mask\n",
    "        node (int): Node index that is being explained in mask\n",
    "        original (int): Node index that is being explained in origin syn2 graph\n",
    "\n",
    "    Returns:\n",
    "        float: coherence value\n",
    "    \"\"\"\n",
    "    sources = [node_to_explain]\n",
    "    targets = [v for v in nodes if v!=node_to_explain]\n",
    "    bc = nx.betweenness_centrality_subset(dataset_G,sources,targets)\n",
    "\n",
    "    # By explainer\n",
    "    A = mask.copy()\n",
    "    \n",
    "    # Importance from bc\n",
    "    B = np.zeros_like(A)\n",
    "    for v in list(bc.keys()):\n",
    "        B[v] = bc.get(v)\n",
    "    \n",
    "    A1 = normalize(A)\n",
    "    B1 = normalize(B)\n",
    "\n",
    "    # a = np.linalg.norm(A1,2)\n",
    "    # b = np.linalg.norm(B1,2)\n",
    "    # c = (abs(a - b))**2\n",
    "    # d = (np.linalg.norm(A1 - B1, 2)**2)\n",
    "\n",
    "    a = (np.linalg.norm(A1 - B1, 2)**2)\n",
    "    count = 0\n",
    "\n",
    "    try:\n",
    "        coh = 2/(1 + math.exp(a))\n",
    "    # Happens when a is too large\n",
    "    except:\n",
    "        coh = 0\n",
    "    \n",
    "    # Save the arrays A1 and B1\n",
    "    folder = \"D:\\D_Drive\\Github\\Thesis\\GraphSVX_graph_properties\\graph_theoretic_properties\\centrality_matrices\\syn2\"\n",
    "    file_name = str(node_to_explain) + \".npz\"\n",
    "    path = os.path.join(folder,file_name)\n",
    "    np.savez(path,array1=A1,array2=B1)\n",
    "\n",
    "    return coh\n",
    "\n",
    "    # if(np.array_equal(A1,B1) == False):\n",
    "    #     return c/d\n",
    "    # else:\n",
    "    #     return 1\n",
    "\n",
    "def graph_prop(dataset_G,graph,mask,node_to_explain):\n",
    "\n",
    "    v = graph.number_of_nodes()\n",
    "    e = graph.number_of_edges()\n",
    "    avg_degree = float('%.3f'%(2*e/v))\n",
    "    # diameter = nx.diameter(graph)\n",
    "    compact_diam = 0\n",
    "    # Usually if multiple components, diam = inf\n",
    "    # But since we are using the diameter as a measure of compactness\n",
    "    # we measure it as avg of diameter of components - verify with devendra once\n",
    "    for g in list(nx.connected_components(graph)):\n",
    "        compact_diam += nx.diameter(graph.subgraph(g))\n",
    "    compact_diam /= nx.number_connected_components(graph)\n",
    "    sparsity = float('%.3f'%(1 - (2*e/(v*(v-1)))))\n",
    "    coh = centrality(dataset_G,list(graph.nodes()),mask,node_to_explain)\n",
    "\n",
    "    return [v,e,avg_degree,compact_diam,sparsity, coh]"
   ]
  },
  {
   "cell_type": "code",
   "execution_count": 11,
   "metadata": {},
   "outputs": [],
   "source": [
    "def get_node_to_explain(filename):\n",
    "\n",
    "    required_slice = filename.split('_')[-1]\n",
    "    node = int(required_slice.split('.')[0])\n",
    "\n",
    "    return node"
   ]
  },
  {
   "cell_type": "code",
   "execution_count": 12,
   "metadata": {},
   "outputs": [
    {
     "name": "stdout",
     "output_type": "stream",
     "text": [
      "Analyzing graph properties for explanation of node #400\n",
      "Analyzing graph properties for explanation of node #405\n",
      "Analyzing graph properties for explanation of node #410\n",
      "Analyzing graph properties for explanation of node #415\n",
      "Analyzing graph properties for explanation of node #420\n",
      "Analyzing graph properties for explanation of node #425\n",
      "Analyzing graph properties for explanation of node #430\n",
      "Analyzing graph properties for explanation of node #435\n",
      "Analyzing graph properties for explanation of node #440\n",
      "Analyzing graph properties for explanation of node #445\n",
      "Analyzing graph properties for explanation of node #450\n",
      "Analyzing graph properties for explanation of node #455\n",
      "Analyzing graph properties for explanation of node #460\n",
      "Analyzing graph properties for explanation of node #465\n",
      "Analyzing graph properties for explanation of node #470\n",
      "Analyzing graph properties for explanation of node #475\n",
      "Analyzing graph properties for explanation of node #480\n",
      "Analyzing graph properties for explanation of node #485\n",
      "Analyzing graph properties for explanation of node #490\n",
      "Analyzing graph properties for explanation of node #495\n",
      "Analyzing graph properties for explanation of node #500\n",
      "Analyzing graph properties for explanation of node #505\n",
      "Analyzing graph properties for explanation of node #510\n",
      "Analyzing graph properties for explanation of node #515\n",
      "Analyzing graph properties for explanation of node #520\n",
      "Analyzing graph properties for explanation of node #525\n",
      "Analyzing graph properties for explanation of node #530\n",
      "Analyzing graph properties for explanation of node #535\n",
      "Analyzing graph properties for explanation of node #540\n",
      "Analyzing graph properties for explanation of node #545\n",
      "Analyzing graph properties for explanation of node #550\n",
      "Analyzing graph properties for explanation of node #555\n",
      "Analyzing graph properties for explanation of node #560\n",
      "Analyzing graph properties for explanation of node #565\n",
      "Analyzing graph properties for explanation of node #570\n",
      "Analyzing graph properties for explanation of node #575\n",
      "Analyzing graph properties for explanation of node #580\n",
      "Analyzing graph properties for explanation of node #585\n",
      "Analyzing graph properties for explanation of node #590\n",
      "Analyzing graph properties for explanation of node #595\n",
      "Analyzing graph properties for explanation of node #600\n",
      "Analyzing graph properties for explanation of node #605\n",
      "Analyzing graph properties for explanation of node #610\n",
      "Analyzing graph properties for explanation of node #615\n",
      "Analyzing graph properties for explanation of node #620\n",
      "Analyzing graph properties for explanation of node #625\n",
      "Analyzing graph properties for explanation of node #630\n",
      "Analyzing graph properties for explanation of node #635\n",
      "Analyzing graph properties for explanation of node #640\n",
      "Analyzing graph properties for explanation of node #645\n",
      "Analyzing graph properties for explanation of node #650\n",
      "Analyzing graph properties for explanation of node #655\n",
      "Analyzing graph properties for explanation of node #660\n",
      "Analyzing graph properties for explanation of node #665\n",
      "Analyzing graph properties for explanation of node #670\n",
      "Analyzing graph properties for explanation of node #675\n",
      "Analyzing graph properties for explanation of node #680\n",
      "Analyzing graph properties for explanation of node #685\n",
      "Analyzing graph properties for explanation of node #690\n",
      "Analyzing graph properties for explanation of node #695\n",
      "All explanations successfully analyzed!\n"
     ]
    }
   ],
   "source": [
    "graph_properties = []\n",
    "dataset_G = nx.from_numpy_array(adj_matrix)\n",
    "\n",
    "# len(mask_adj)\n",
    "for i in range(len(mask_adj)):\n",
    "    # adj = show_adjacency_full(masked_subgraph,mask_adj[i])  # Get the adjacency matrix of the explanation\n",
    "    # G = nx.from_numpy_array(adj)    # Get the explanation subgraph\n",
    "    node_mask = show_adjacency_full(results, node_masks[i])  # Get the node mask for the considered explanation\n",
    "    idxs = np.where(node_mask != 0)[0]\n",
    "    G = nx.induced_subgraph(dataset_G, idxs)\n",
    "    node_to_explain = get_node_to_explain(mask_adj[i])  # Get the label of the node being explained\n",
    "    \n",
    "    print(f\"Analyzing graph properties for explanation of node #{node_to_explain}\")\n",
    "    graph_properties.append(graph_prop(dataset_G,G,node_mask,node_to_explain))\n",
    "\n",
    "print(\"All explanations successfully analyzed!\")"
   ]
  },
  {
   "cell_type": "code",
   "execution_count": 13,
   "metadata": {},
   "outputs": [
    {
     "data": {
      "text/html": [
       "<div>\n",
       "<style scoped>\n",
       "    .dataframe tbody tr th:only-of-type {\n",
       "        vertical-align: middle;\n",
       "    }\n",
       "\n",
       "    .dataframe tbody tr th {\n",
       "        vertical-align: top;\n",
       "    }\n",
       "\n",
       "    .dataframe thead th {\n",
       "        text-align: right;\n",
       "    }\n",
       "</style>\n",
       "<table border=\"1\" class=\"dataframe\">\n",
       "  <thead>\n",
       "    <tr style=\"text-align: right;\">\n",
       "      <th></th>\n",
       "      <th>Order</th>\n",
       "      <th>Size</th>\n",
       "      <th>Average Degree</th>\n",
       "      <th>Diameter</th>\n",
       "      <th>Sparsity</th>\n",
       "      <th>Coherence</th>\n",
       "    </tr>\n",
       "  </thead>\n",
       "  <tbody>\n",
       "    <tr>\n",
       "      <th>count</th>\n",
       "      <td>60.000000</td>\n",
       "      <td>60.000000</td>\n",
       "      <td>60.000000</td>\n",
       "      <td>60.000000</td>\n",
       "      <td>60.000000</td>\n",
       "      <td>6.000000e+01</td>\n",
       "    </tr>\n",
       "    <tr>\n",
       "      <th>mean</th>\n",
       "      <td>156.800000</td>\n",
       "      <td>500.333333</td>\n",
       "      <td>6.025433</td>\n",
       "      <td>8.216667</td>\n",
       "      <td>0.957217</td>\n",
       "      <td>3.062201e-02</td>\n",
       "    </tr>\n",
       "    <tr>\n",
       "      <th>std</th>\n",
       "      <td>70.448876</td>\n",
       "      <td>310.277277</td>\n",
       "      <td>1.045303</td>\n",
       "      <td>2.484472</td>\n",
       "      <td>0.010800</td>\n",
       "      <td>4.663840e-02</td>\n",
       "    </tr>\n",
       "    <tr>\n",
       "      <th>min</th>\n",
       "      <td>73.000000</td>\n",
       "      <td>126.000000</td>\n",
       "      <td>3.452000</td>\n",
       "      <td>3.500000</td>\n",
       "      <td>0.929000</td>\n",
       "      <td>0.000000e+00</td>\n",
       "    </tr>\n",
       "    <tr>\n",
       "      <th>25%</th>\n",
       "      <td>106.000000</td>\n",
       "      <td>274.750000</td>\n",
       "      <td>5.400500</td>\n",
       "      <td>6.750000</td>\n",
       "      <td>0.950000</td>\n",
       "      <td>3.296781e-10</td>\n",
       "    </tr>\n",
       "    <tr>\n",
       "      <th>50%</th>\n",
       "      <td>138.000000</td>\n",
       "      <td>422.000000</td>\n",
       "      <td>6.020500</td>\n",
       "      <td>8.000000</td>\n",
       "      <td>0.956000</td>\n",
       "      <td>9.501559e-03</td>\n",
       "    </tr>\n",
       "    <tr>\n",
       "      <th>75%</th>\n",
       "      <td>176.750000</td>\n",
       "      <td>605.500000</td>\n",
       "      <td>6.912000</td>\n",
       "      <td>10.000000</td>\n",
       "      <td>0.963250</td>\n",
       "      <td>4.112332e-02</td>\n",
       "    </tr>\n",
       "    <tr>\n",
       "      <th>max</th>\n",
       "      <td>416.000000</td>\n",
       "      <td>1719.000000</td>\n",
       "      <td>8.264000</td>\n",
       "      <td>13.000000</td>\n",
       "      <td>0.980000</td>\n",
       "      <td>2.069115e-01</td>\n",
       "    </tr>\n",
       "  </tbody>\n",
       "</table>\n",
       "</div>"
      ],
      "text/plain": [
       "            Order         Size  Average Degree   Diameter   Sparsity  \\\n",
       "count   60.000000    60.000000       60.000000  60.000000  60.000000   \n",
       "mean   156.800000   500.333333        6.025433   8.216667   0.957217   \n",
       "std     70.448876   310.277277        1.045303   2.484472   0.010800   \n",
       "min     73.000000   126.000000        3.452000   3.500000   0.929000   \n",
       "25%    106.000000   274.750000        5.400500   6.750000   0.950000   \n",
       "50%    138.000000   422.000000        6.020500   8.000000   0.956000   \n",
       "75%    176.750000   605.500000        6.912000  10.000000   0.963250   \n",
       "max    416.000000  1719.000000        8.264000  13.000000   0.980000   \n",
       "\n",
       "          Coherence  \n",
       "count  6.000000e+01  \n",
       "mean   3.062201e-02  \n",
       "std    4.663840e-02  \n",
       "min    0.000000e+00  \n",
       "25%    3.296781e-10  \n",
       "50%    9.501559e-03  \n",
       "75%    4.112332e-02  \n",
       "max    2.069115e-01  "
      ]
     },
     "execution_count": 13,
     "metadata": {},
     "output_type": "execute_result"
    }
   ],
   "source": [
    "# Convert the above data into a data frame\n",
    "import pandas as pd\n",
    "df = pd.DataFrame(graph_properties, columns=[\"Order\",\"Size\",\"Average Degree\",\"Diameter\",\"Sparsity\",\"Coherence\"])\n",
    "\n",
    "df.describe()"
   ]
  },
  {
   "cell_type": "code",
   "execution_count": 14,
   "metadata": {},
   "outputs": [],
   "source": [
    "# Save the dataframe as a csv for later use\n",
    "df.to_csv(\"syn2_latest.csv\")"
   ]
  },
  {
   "cell_type": "code",
   "execution_count": 15,
   "metadata": {},
   "outputs": [
    {
     "data": {
      "image/png": "[encoded data removed]",
      "text/plain": [
       "<Figure size 640x480 with 1 Axes>"
      ]
     },
     "metadata": {},
     "output_type": "display_data"
    }
   ],
   "source": [
    "# Plot Sparsity\n",
    "plt.figure()\n",
    "df['Sparsity'].plot(kind='box')\n",
    "plt.title(\"Sparsity GraphSVX syn2\")\n",
    "plt.show()"
   ]
  },
  {
   "cell_type": "code",
   "execution_count": 16,
   "metadata": {},
   "outputs": [],
   "source": [
    "norms = []\n",
    "path = \"D:\\D_Drive\\Github\\Thesis\\GraphSVX_graph_properties\\graph_theoretic_properties\\centrality_matrices\\syn2\"\n",
    "for m in list(os.listdir(path)):\n",
    "    mats = np.load(os.path.join(path,m))\n",
    "    A,B=mats['array1'],mats['array2']\n",
    "    norms.append({'A':np.linalg.norm(A,2),'B':np.linalg.norm(B,2)})\n",
    "\n",
    "df_norms = pd.DataFrame(norms)"
   ]
  },
  {
   "cell_type": "code",
   "execution_count": 17,
   "metadata": {},
   "outputs": [
    {
     "data": {
      "text/plain": [
       "<matplotlib.collections.PathCollection at 0x275662d7d88>"
      ]
     },
     "execution_count": 17,
     "metadata": {},
     "output_type": "execute_result"
    },
    {
     "data": {
      "image/png": "[encoded data removed]",
      "text/plain": [
       "<Figure size 640x480 with 1 Axes>"
      ]
     },
     "metadata": {},
     "output_type": "display_data"
    }
   ],
   "source": [
    "plt.scatter(df_norms['A'].values,df_norms['B'].values)"
   ]
  }
 ],
 "metadata": {
  "kernelspec": {
   "display_name": ".venv",
   "language": "python",
   "name": "python3"
  },
  "language_info": {
   "codemirror_mode": {
    "name": "ipython",
    "version": 3
   },
   "file_extension": ".py",
   "mimetype": "text/x-python",
   "name": "python",
   "nbconvert_exporter": "python",
   "pygments_lexer": "ipython3",
   "version": "3.7.9"
  }
 },
 "nbformat": 4,
 "nbformat_minor": 2
}
