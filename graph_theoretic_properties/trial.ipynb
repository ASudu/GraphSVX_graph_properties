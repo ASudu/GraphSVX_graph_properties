{
 "cells": [
  {
   "cell_type": "code",
   "execution_count": 1,
   "metadata": {},
   "outputs": [],
   "source": [
    "import numpy as np\n",
    "import matplotlib.pyplot as plt\n",
    "import random as r\n",
    "import pickle as pkl\n",
    "from types import SimpleNamespace\n",
    "import os\n",
    "import time"
   ]
  },
  {
   "cell_type": "code",
   "execution_count": 2,
   "metadata": {},
   "outputs": [
    {
     "data": {
      "text/plain": [
       "'d:\\\\D_Drive\\\\Github\\\\Thesis\\\\GraphSVX_graph_properties\\\\graph_theoretic_properties'"
      ]
     },
     "execution_count": 2,
     "metadata": {},
     "output_type": "execute_result"
    }
   ],
   "source": [
    "cwd = os.getcwd()\n",
    "cwd"
   ]
  },
  {
   "cell_type": "code",
   "execution_count": 3,
   "metadata": {},
   "outputs": [],
   "source": [
    "data = SimpleNamespace()\n",
    "with open('../data/BA-2motif.pkl', 'rb') as fin:\n",
    "    data.edge_index, data.x, data.y = pkl.load(fin)"
   ]
  },
  {
   "cell_type": "code",
   "execution_count": 17,
   "metadata": {},
   "outputs": [
    {
     "data": {
      "text/plain": [
       "(1000, 1)"
      ]
     },
     "execution_count": 17,
     "metadata": {},
     "output_type": "execute_result"
    }
   ],
   "source": [
    "data.indices = np.array(range(data.edge_index.shape[0]))\n",
    "data.indices = np.reshape(data.indices,(data.indices.shape[0],-1))      # Important step\n",
    "data.indices.shape"
   ]
  },
  {
   "cell_type": "code",
   "execution_count": 30,
   "metadata": {},
   "outputs": [
    {
     "name": "stdout",
     "output_type": "stream",
     "text": [
      "Time (sec): 0.015526056289672852\n"
     ]
    }
   ],
   "source": [
    "# For the duplication\n",
    "new_data = SimpleNamespace()\n",
    "new_data.indices = np.repeat(data.indices, 2)\n",
    "new_data.edge_index = []\n",
    "new_data.x = []\n",
    "new_data.y = []\n",
    "\n",
    "for i in list(range(data.edge_index.shape[0])):\n",
    "    new_data.edge_index.append(data.edge_index[i])\n",
    "    new_data.x.append(data.x[i])\n",
    "    new_data.y.append(data.y[i])\n",
    "\n",
    "    new_data.edge_index.append(data.edge_index[i])\n",
    "    new_data.x.append(data.x[i])\n",
    "    new_data.y.append(data.y[i])\n",
    "\n",
    "new_data.edge_index = np.array(new_data.edge_index)\n",
    "new_data.x = np.array(new_data.x)\n",
    "new_data.y = np.array(new_data.y)\n",
    "\n",
    "# Reshape the indices array\n",
    "new_data.indices = np.reshape(new_data.indices, (new_data.indices.shape[0],-1))\n",
    "\n",
    "# Save the dataset\n",
    "start = time.time()\n",
    "\n",
    "with open('../data/syn6_identical.pkl', 'wb') as f1:\n",
    "    pkl.dump([new_data.indices, new_data.edge_index, new_data.x, new_data.y], f1)\n",
    "\n",
    "print('Time (sec):',time.time() - start)"
   ]
  },
  {
   "cell_type": "code",
   "execution_count": 31,
   "metadata": {},
   "outputs": [
    {
     "data": {
      "text/plain": [
       "2000"
      ]
     },
     "execution_count": 31,
     "metadata": {},
     "output_type": "execute_result"
    }
   ],
   "source": [
    "len(new_data.edge_index)"
   ]
  },
  {
   "cell_type": "code",
   "execution_count": 9,
   "metadata": {},
   "outputs": [
    {
     "data": {
      "text/plain": [
       "array([[1, 1, 1, 1],\n",
       "       [1, 1, 0, 0],\n",
       "       [1, 1, 0, 1],\n",
       "       [1, 1, 1, 0]])"
      ]
     },
     "execution_count": 9,
     "metadata": {},
     "output_type": "execute_result"
    }
   ],
   "source": [
    "a = np.random.randint(3, size=(4,4))\n",
    "a = (a != 0)*1\n",
    "a"
   ]
  },
  {
   "cell_type": "code",
   "execution_count": 52,
   "metadata": {},
   "outputs": [],
   "source": [
    "import math\n",
    "import random\n",
    "def decode(i):\n",
    "    k = math.floor((1+math.sqrt(1+8*i))/2)  # eq1\n",
    "    return k,i-k*(k-1)//2\n",
    "\n",
    "def rand_pair(n):\n",
    "    return decode(random.randrange(n*(n-1)//2))\n",
    "\n",
    "def rand_pairs(n,m):\n",
    "    return [decode(i) for i in random.sample(range(n*(n-1)//2),m)]"
   ]
  },
  {
   "cell_type": "code",
   "execution_count": 59,
   "metadata": {},
   "outputs": [],
   "source": [
    "def pert_matrix(arr):\n",
    "    \"\"\"Perturbs 10% of the values in the matrix (excludes diagonal elements)\n",
    "\n",
    "    Args:\n",
    "        arr (numpy ndarray): matrix to be perturbed\n",
    "\n",
    "    Returns:\n",
    "        numpy ndarray: perturbed matrix\n",
    "    \"\"\"\n",
    "    num_val_perturb = int(0.1*arr.shape[0]*arr.shape[1])\n",
    "\n",
    "    # rand_nums1 = random.sample(range(size[0]),num_val_perturb)\n",
    "    # rand_nums2 = random.sample(range(size[1]),num_val_perturb)\n",
    "    rand_nos = rand_pairs(min(arr.shape[0],arr.shape[1]), num_val_perturb)\n",
    "\n",
    "    for i in range(num_val_perturb):\n",
    "        p = rand_nos[i][0]\n",
    "        q = rand_nos[i][1]\n",
    "        # Note that p==q never happends due to the decode method\n",
    "        # If k = i - k(k-1)//2 then k won't satisfy the eq1\n",
    "        \n",
    "        arr[p][q] = 1.0 - arr[p][q]\n",
    "    \n",
    "    return arr\n",
    "        \n",
    "        "
   ]
  },
  {
   "cell_type": "code",
   "execution_count": 60,
   "metadata": {},
   "outputs": [
    {
     "name": "stdout",
     "output_type": "stream",
     "text": [
      "(2000, 1)\n",
      "(2000, 25, 25)\n",
      "(2000, 25, 10)\n",
      "(2000, 2)\n"
     ]
    }
   ],
   "source": [
    "pert_data = SimpleNamespace()\n",
    "pert_data.indices = new_data.indices\n",
    "pert_data.edge_index = new_data.edge_index\n",
    "pert_data.x = new_data.x\n",
    "pert_data.y = new_data.y\n",
    "for i in list(range(1,len(pert_data.indices),2)):\n",
    "    # Perturbing the adjacency matrix\n",
    "    a = pert_matrix(pert_data.edge_index[i])\n",
    "    np.fill_diagonal(a,0)\n",
    "    pert_data.edge_index[i] = a\n",
    "\n",
    "    # Perturbing the feature matrix\n",
    "    b = pert_matrix(pert_data.x[i])\n",
    "    np.fill_diagonal(b,0)\n",
    "    pert_data.x[i] = b\n",
    "\n",
    "# flag = -1\n",
    "# for i in range(data.y.shape[0]):\n",
    "#     if np.array_equal(pert_data.y[2*i], pert_data.y[(2*i) + 1]) == False:\n",
    "#         print(i)\n",
    "#         flag = 0\n",
    "\n",
    "# flag\n",
    "print(pert_data.indices.shape)\n",
    "print(pert_data.edge_index.shape)\n",
    "print(pert_data.x.shape)\n",
    "print(pert_data.y.shape)"
   ]
  },
  {
   "cell_type": "code",
   "execution_count": 61,
   "metadata": {},
   "outputs": [
    {
     "name": "stdout",
     "output_type": "stream",
     "text": [
      "Time (sec): 0.018721342086791992\n"
     ]
    }
   ],
   "source": [
    "start = time.time()\n",
    "\n",
    "with open('../data/syn6_similar.pkl', 'wb') as f1:\n",
    "    pkl.dump([new_data.indices, new_data.edge_index, new_data.x, new_data.y], f1)\n",
    "\n",
    "print('Time (sec):',time.time() - start)"
   ]
  }
 ],
 "metadata": {
  "kernelspec": {
   "display_name": ".venv",
   "language": "python",
   "name": "python3"
  },
  "language_info": {
   "codemirror_mode": {
    "name": "ipython",
    "version": 3
   },
   "file_extension": ".py",
   "mimetype": "text/x-python",
   "name": "python",
   "nbconvert_exporter": "python",
   "pygments_lexer": "ipython3",
   "version": "3.7.9"
  }
 },
 "nbformat": 4,
 "nbformat_minor": 2
}
