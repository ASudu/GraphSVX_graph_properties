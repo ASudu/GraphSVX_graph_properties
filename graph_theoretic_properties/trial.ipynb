{
 "cells": [
  {
   "cell_type": "code",
   "execution_count": 1,
   "metadata": {},
   "outputs": [],
   "source": [
    "import numpy as np\n",
    "import matplotlib.pyplot as plt\n",
    "import random as r\n",
    "import pickle as pkl\n",
    "from types import SimpleNamespace\n",
    "import os\n",
    "import time"
   ]
  },
  {
   "cell_type": "code",
   "execution_count": 2,
   "metadata": {},
   "outputs": [
    {
     "data": {
      "text/plain": [
       "'d:\\\\D_Drive\\\\Github\\\\Thesis\\\\GraphSVX_graph_properties\\\\graph_theoretic_properties'"
      ]
     },
     "execution_count": 2,
     "metadata": {},
     "output_type": "execute_result"
    }
   ],
   "source": [
    "cwd = os.getcwd()\n",
    "cwd"
   ]
  },
  {
   "cell_type": "code",
   "execution_count": 3,
   "metadata": {},
   "outputs": [],
   "source": [
    "data = SimpleNamespace()\n",
    "with open('../data/BA-2motif.pkl', 'rb') as fin:\n",
    "    data.edge_index, data.x, data.y = pkl.load(fin)"
   ]
  },
  {
   "cell_type": "code",
   "execution_count": 4,
   "metadata": {},
   "outputs": [
    {
     "data": {
      "text/plain": [
       "(1000, 2)"
      ]
     },
     "execution_count": 4,
     "metadata": {},
     "output_type": "execute_result"
    }
   ],
   "source": [
    "data.y.shape"
   ]
  },
  {
   "cell_type": "code",
   "execution_count": 5,
   "metadata": {},
   "outputs": [],
   "source": [
    "data.indices = np.array(range(data.edge_index.shape[0]))"
   ]
  },
  {
   "cell_type": "code",
   "execution_count": 6,
   "metadata": {},
   "outputs": [
    {
     "name": "stdout",
     "output_type": "stream",
     "text": [
      "Time (sec): 0.01715826988220215\n"
     ]
    }
   ],
   "source": [
    "# For the duplication\n",
    "new_data = SimpleNamespace()\n",
    "new_data.indices = np.repeat(data.indices, 2)\n",
    "new_data.edge_index = []\n",
    "new_data.x = []\n",
    "new_data.y = []\n",
    "\n",
    "for i in list(range(data.edge_index.shape[0])):\n",
    "    new_data.edge_index.append(data.edge_index[i])\n",
    "    new_data.x.append(data.x[i])\n",
    "    new_data.y.append(data.y[i])\n",
    "\n",
    "    new_data.edge_index.append(data.edge_index[i])\n",
    "    new_data.x.append(data.x[i])\n",
    "    new_data.y.append(data.y[i])\n",
    "\n",
    "new_data.edge_index = np.array(new_data.edge_index)\n",
    "new_data.x = np.array(new_data.x)\n",
    "new_data.y = np.array(new_data.y)\n",
    "\n",
    "start = time.time()\n",
    "\n",
    "with open('../data/syn6_identical.pkl', 'wb') as f1:\n",
    "    pkl.dump([new_data.indices, new_data.edge_index, new_data.x, new_data.y], f1)\n",
    "\n",
    "print('Time (sec):',time.time() - start)"
   ]
  },
  {
   "cell_type": "code",
   "execution_count": 7,
   "metadata": {},
   "outputs": [
    {
     "data": {
      "text/plain": [
       "array([[1, 1, 0, 1],\n",
       "       [1, 2, 1, 2],\n",
       "       [1, 1, 1, 1],\n",
       "       [1, 1, 2, 1]])"
      ]
     },
     "execution_count": 7,
     "metadata": {},
     "output_type": "execute_result"
    }
   ],
   "source": [
    "# Testing the np.random.permutation\n",
    "a = np.random.randint(2, size=(4, 4))\n",
    "c = np.random.randint(2, size=a.shape)\n",
    "b = np.random.permutation(a)\n",
    "\n",
    "a+c"
   ]
  },
  {
   "cell_type": "code",
   "execution_count": 8,
   "metadata": {},
   "outputs": [
    {
     "data": {
      "text/plain": [
       "2000"
      ]
     },
     "execution_count": 8,
     "metadata": {},
     "output_type": "execute_result"
    }
   ],
   "source": [
    "len(new_data.edge_index)"
   ]
  },
  {
   "cell_type": "code",
   "execution_count": 9,
   "metadata": {},
   "outputs": [
    {
     "data": {
      "text/plain": [
       "array([[0, 1, 1, 1],\n",
       "       [1, 1, 1, 1],\n",
       "       [1, 1, 0, 1],\n",
       "       [0, 1, 1, 1]])"
      ]
     },
     "execution_count": 9,
     "metadata": {},
     "output_type": "execute_result"
    }
   ],
   "source": [
    "a = np.random.randint(3, size=(4,4))\n",
    "a = (a != 0)*1\n",
    "a"
   ]
  },
  {
   "cell_type": "code",
   "execution_count": 10,
   "metadata": {},
   "outputs": [],
   "source": [
    "pert_data = SimpleNamespace()\n",
    "pert_data.indices = new_data.indices\n",
    "pert_data.edge_index = []\n",
    "pert_data.x = []\n",
    "pert_data.y = new_data.y\n",
    "for i in list(range(1,len(pert_data.indices),2)):\n",
    "    # Perturbing the adjacency matrix\n",
    "    a = np.random.permutation(new_data.edge_index[i])\n",
    "    a = a + np.random.randint(2, size=a.shape)\n",
    "    a = ((a != 0)*1).astype(float)\n",
    "    pert_data.edge_index.append(a)\n",
    "\n",
    "    # Perturbing the feature matrix\n",
    "    b = np.random.permutation(new_data.x[i])\n",
    "    b = b + np.random.randint(2, size=b.shape)\n",
    "    b = ((b != 0)*1).astype(float)\n",
    "    pert_data.x.append(b)\n",
    "\n",
    "pert_data.edge_index = np.array(pert_data.edge_index)\n",
    "pert_data.x = np.array(pert_data.x)\n"
   ]
  },
  {
   "cell_type": "code",
   "execution_count": 11,
   "metadata": {},
   "outputs": [
    {
     "name": "stdout",
     "output_type": "stream",
     "text": [
      "Time (sec): 0.014189720153808594\n"
     ]
    }
   ],
   "source": [
    "start = time.time()\n",
    "\n",
    "with open('../data/syn6_similar.pkl', 'wb') as f1:\n",
    "    pkl.dump([new_data.indices, new_data.edge_index, new_data.x, new_data.y], f1)\n",
    "\n",
    "print('Time (sec):',time.time() - start)"
   ]
  }
 ],
 "metadata": {
  "kernelspec": {
   "display_name": ".venv",
   "language": "python",
   "name": "python3"
  },
  "language_info": {
   "codemirror_mode": {
    "name": "ipython",
    "version": 3
   },
   "file_extension": ".py",
   "mimetype": "text/x-python",
   "name": "python",
   "nbconvert_exporter": "python",
   "pygments_lexer": "ipython3",
   "version": "3.7.9"
  }
 },
 "nbformat": 4,
 "nbformat_minor": 2
}
